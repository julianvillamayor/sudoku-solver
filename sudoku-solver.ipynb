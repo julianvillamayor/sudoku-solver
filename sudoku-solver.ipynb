{
 "cells": [
  {
   "cell_type": "markdown",
   "metadata": {},
   "source": [
    "# Print Board"
   ]
  },
  {
   "cell_type": "code",
   "execution_count": 42,
   "metadata": {},
   "outputs": [],
   "source": [
    "board1 =[\n",
    "       0,0,8,3,0,0,0,0,1,\n",
    "       0,2,0,5,0,0,0,6,3,\n",
    "       0,0,0,0,6,0,5,0,4,\n",
    "       #######################\n",
    "       0,0,4,0,0,0,0,0,5,\n",
    "       8,3,0,0,0,0,0,7,6,\n",
    "       1,0,0,0,0,0,4,0,0,\n",
    "       #######################\n",
    "       2,0,3,0,8,0,0,0,0,\n",
    "       6,8,0,0,0,9,0,4,0,\n",
    "       7,0,0,0,0,1,6,0,0\n",
    "      ]"
   ]
  },
  {
   "cell_type": "code",
   "execution_count": 43,
   "metadata": {},
   "outputs": [],
   "source": [
    "def print_board(board):  #method for printing the board in a nicer display\n",
    "  tablero = []\n",
    "  tab = []\n",
    "  for i in range(0,27):  #separating the array in triplets and by file\n",
    "    alfa = board[3*i:3*(i+1)] \n",
    "    tab.append(alfa)\n",
    "    if len(tab) == 3:\n",
    "      tablero.append(tab)\n",
    "      tab = []\n",
    "  \n",
    "  for j in range(len(tablero)):\n",
    "    print(*tablero[j], sep=\" | \")\n",
    "    if (j+1) % 3 == 0:\n",
    "      print(\"---------------------------------\")\n"
   ]
  },
  {
   "cell_type": "code",
   "execution_count": 44,
   "metadata": {},
   "outputs": [
    {
     "name": "stdout",
     "output_type": "stream",
     "text": [
      "[0, 0, 8] | [3, 0, 0] | [0, 0, 1]\n",
      "[0, 2, 0] | [5, 0, 0] | [0, 6, 3]\n",
      "[0, 0, 0] | [0, 6, 0] | [5, 0, 4]\n",
      "---------------------------------\n",
      "[0, 0, 4] | [0, 0, 0] | [0, 0, 5]\n",
      "[8, 3, 0] | [0, 0, 0] | [0, 7, 6]\n",
      "[1, 0, 0] | [0, 0, 0] | [4, 0, 0]\n",
      "---------------------------------\n",
      "[2, 0, 3] | [0, 8, 0] | [0, 0, 0]\n",
      "[6, 8, 0] | [0, 0, 9] | [0, 4, 0]\n",
      "[7, 0, 0] | [0, 0, 1] | [6, 0, 0]\n",
      "---------------------------------\n"
     ]
    }
   ],
   "source": [
    "print_board(board1)"
   ]
  },
  {
   "cell_type": "markdown",
   "metadata": {},
   "source": [
    "# Possibilities"
   ]
  },
  {
   "cell_type": "code",
   "execution_count": 45,
   "metadata": {},
   "outputs": [],
   "source": [
    "def cuad(a,b):  #identifying the 3x3 square that corresponds to a given item\n",
    "  \"\"\"\n",
    "  this function gives the indexes of a 3x3 square for an item\n",
    "  in (a,b)\n",
    "  a:= file number of the puzzle\n",
    "  b:= column number of the puzzle\n",
    "  \"\"\"\n",
    "  cuad_1 = [0,1,2,9,10,11,18,19,20]\n",
    "  if 0 <= b <= 2 and 0 <= a <= 2:\n",
    "    return cuad_1\n",
    "  elif 3 <= b <= 5 and 0 <= a <= 2:\n",
    "    return [cuad_1[i] + 3 for i in range(len(cuad_1))]\n",
    "  elif 6 <= b <= 8 and 0 <= a <= 2:\n",
    "    return [cuad_1[i] + 6 for i in range(len(cuad_1))]\n",
    "  elif 0 <= b <= 2 and 3 <= a <= 5:\n",
    "    return [cuad_1[i] + 27 for i in range(len(cuad_1))]\n",
    "  elif 3 <= b <= 5 and 3 <= a <= 5:\n",
    "    return [cuad_1[i] + 30 for i in range(len(cuad_1))]\n",
    "  elif 6 <= b <= 8 and 3 <= a <= 5:\n",
    "    return [cuad_1[i] + 33 for i in range(len(cuad_1))]\n",
    "  elif 0 <= b <= 2 and 6 <= a <= 8:\n",
    "    return [cuad_1[i] + 54 for i in range(len(cuad_1))]\n",
    "  elif 3 <= b <= 5 and 6 <= a <= 8:\n",
    "    return [cuad_1[i] + 57 for i in range(len(cuad_1))]\n",
    "  elif 6 <= b <= 8 and 6 <= a <= 8:\n",
    "    return [cuad_1[i] + 60 for i in range(len(cuad_1))]\n",
    "\n",
    "def conjuntos(num, board):\n",
    "  \"\"\"\n",
    "  this function strips the board into files, columns and cuadrants (3x3 squares)\n",
    "  that correspond to a given item of index 'num' in a given board.\n",
    "  The function give us the file, column etc. without the item board[num]\n",
    "  for which we will test compatibility with the rest of the board\n",
    "  \"\"\"\n",
    "  fil = num//9\n",
    "  col = num%9\n",
    "  # corresponding indexes\n",
    "  indices_filas =[9*fil + i for i in range(0,9)]\n",
    "  indices_columnas = [col + 9*k for k in range(0,9)]\n",
    "  indices_cuadrantes = cuad(fil,col)\n",
    "  # elliminates num index\n",
    "  indices_filas.remove(num)\n",
    "  indices_columnas.remove(num)\n",
    "  indices_cuadrantes.remove(num)\n",
    "  #declares each file, column etc.\n",
    "  fila = [board[i] for i in indices_filas]\n",
    "  columna = [board[i] for i in indices_columnas]\n",
    "  cuadrante = [board[i] for i in indices_cuadrantes]\n",
    "\n",
    "  return fila, columna, cuadrante\n",
    "\n",
    "def generar_solucion(board): # spans possibility space for squares\n",
    "  \"\"\"\n",
    "  Takes the board and checks if which of the numbers from 1-9 are suitable \n",
    "  for an empty square, and then gives the list\n",
    "  \"\"\" \n",
    "  soluciones = []\n",
    "  for i in range(81):\n",
    "    if board[i] != 0:\n",
    "        soluciones.append(board[i])\n",
    "      \n",
    "    elif board[i] == 0:  # with 0 being empty\n",
    "        posibilidad = []\n",
    "        fila,columna,cuadrante = conjuntos(i,board)\n",
    "        for k in range(1,10):\n",
    "          if ((k not in fila) and (k not in columna) and  (k not in cuadrante)): #checks the condition\n",
    "            posibilidad.append(int(k))                                           #where the number must NOT\n",
    "        soluciones.append(list(set(posibilidad)))                                #be in any of the sets\n",
    "\n",
    "  return soluciones         \n",
    "  "
   ]
  },
  {
   "cell_type": "code",
   "execution_count": 46,
   "metadata": {},
   "outputs": [
    {
     "name": "stdout",
     "output_type": "stream",
     "text": [
      "[[9, 4, 5], [4, 5, 6, 7, 9], 8] | [3, [9, 2, 4, 7], [2, 4, 7]] | [[9, 2, 7], [9, 2], 1]\n",
      "[[9, 4], 2, [1, 9, 7]] | [5, [1, 4, 9, 7], [8, 4, 7]] | [[8, 9, 7], 6, 3]\n",
      "[[9, 3], [1, 9, 7], [1, 9, 7]] | [[1, 2, 7, 8, 9], 6, [8, 2, 7]] | [5, [8, 9, 2], 4]\n",
      "---------------------------------\n",
      "[[9], [9, 6, 7], 4] | [[1, 2, 6, 7, 8, 9], [1, 2, 3, 7, 9], [2, 3, 6, 7, 8]] | [[1, 2, 3, 8, 9], [1, 2, 3, 8, 9], 5]\n",
      "[8, 3, [9, 2, 5]] | [[1, 2, 4, 9], [1, 2, 4, 5, 9], [2, 4, 5]] | [[1, 2, 9], 7, 6]\n",
      "[1, [9, 5, 6, 7], [2, 5, 6, 7, 9]] | [[2, 6, 7, 8, 9], [2, 3, 5, 7, 9], [2, 3, 5, 6, 7, 8]] | [4, [8, 9, 2, 3], [8, 9, 2]]\n",
      "---------------------------------\n",
      "[2, [1, 4, 5, 9], 3] | [[4, 6, 7], 8, [4, 5, 6, 7]] | [[1, 9, 7], [1, 5, 9], [9, 7]]\n",
      "[6, 8, [1, 5]] | [[2, 7], [2, 3, 5, 7], 9] | [[1, 2, 3, 7], 4, [2, 7]]\n",
      "[7, [9, 4, 5], [9, 5]] | [[2, 4], [2, 3, 4, 5], 1] | [6, [2, 3, 5, 8, 9], [8, 9, 2]]\n",
      "---------------------------------\n"
     ]
    }
   ],
   "source": [
    "print_board(generar_solucion(board1))"
   ]
  },
  {
   "cell_type": "markdown",
   "metadata": {},
   "source": [
    "# Solution Algorithm (Backtracking)"
   ]
  },
  {
   "cell_type": "code",
   "execution_count": 47,
   "metadata": {},
   "outputs": [],
   "source": [
    "def solver(board):\n",
    "  \"\"\"\n",
    "  Solves the puzzle by applying the Backtracking Algorithm\n",
    "  \"\"\"\n",
    "  solucion = board.copy()  #Initializes\n",
    "  cas = [i for i in range(81) if solucion[i] == 0] #Takes the indexes of empty squares\n",
    "  i=0\n",
    "  while (i < len(cas)): # Iterates through empty squares\n",
    "    alfa = solucion[(cas[i])] #alfa represents the variable to be incremented by one\n",
    "    if alfa < 9:\n",
    "        alfa = alfa + 1  \n",
    "        fila,columna,cuadrante = conjuntos(cas[i], solucion)\n",
    "        if (alfa not in fila) and (alfa not in columna) and (alfa not in cuadrante): #if checks\n",
    "          solucion[(cas[i])] = alfa #defines the item in the solution array\n",
    "          i = i + 1                 #advances to the next empty square\n",
    "        else:\n",
    "          solucion[(cas[i])] = alfa\n",
    "    elif alfa >= 9: # It implies that alfa being already 9 failed to pass through each check  \n",
    "      solucion[(cas[i])] = 0 #lefts vaccant the square\n",
    "      i = i - 1              #returns to the previous square to keep guessing the correct number\n",
    "    \n",
    "  return solucion"
   ]
  },
  {
   "cell_type": "code",
   "execution_count": 48,
   "metadata": {},
   "outputs": [],
   "source": [
    "sol1 = solver(board1)"
   ]
  },
  {
   "cell_type": "code",
   "execution_count": 49,
   "metadata": {},
   "outputs": [
    {
     "name": "stdout",
     "output_type": "stream",
     "text": [
      "[5, 6, 8] | [3, 7, 4] | [2, 9, 1]\n",
      "[4, 2, 9] | [5, 1, 8] | [7, 6, 3]\n",
      "[3, 1, 7] | [9, 6, 2] | [5, 8, 4]\n",
      "---------------------------------\n",
      "[9, 7, 4] | [6, 2, 3] | [8, 1, 5]\n",
      "[8, 3, 2] | [1, 4, 5] | [9, 7, 6]\n",
      "[1, 5, 6] | [8, 9, 7] | [4, 3, 2]\n",
      "---------------------------------\n",
      "[2, 4, 3] | [7, 8, 6] | [1, 5, 9]\n",
      "[6, 8, 1] | [2, 5, 9] | [3, 4, 7]\n",
      "[7, 9, 5] | [4, 3, 1] | [6, 2, 8]\n",
      "---------------------------------\n"
     ]
    }
   ],
   "source": [
    "print_board(sol1)"
   ]
  },
  {
   "cell_type": "code",
   "execution_count": 50,
   "metadata": {},
   "outputs": [
    {
     "name": "stdout",
     "output_type": "stream",
     "text": [
      "[0, 0, 8] | [3, 0, 0] | [0, 0, 1]\n",
      "[0, 2, 0] | [5, 0, 0] | [0, 6, 3]\n",
      "[0, 0, 0] | [0, 6, 0] | [5, 0, 4]\n",
      "---------------------------------\n",
      "[0, 0, 4] | [0, 0, 0] | [0, 0, 5]\n",
      "[8, 3, 0] | [0, 0, 0] | [0, 7, 6]\n",
      "[1, 0, 0] | [0, 0, 0] | [4, 0, 0]\n",
      "---------------------------------\n",
      "[2, 0, 3] | [0, 8, 0] | [0, 0, 0]\n",
      "[6, 8, 0] | [0, 0, 9] | [0, 4, 0]\n",
      "[7, 0, 0] | [0, 0, 1] | [6, 0, 0]\n",
      "---------------------------------\n"
     ]
    }
   ],
   "source": [
    "print_board(board1)"
   ]
  }
 ],
 "metadata": {
  "interpreter": {
   "hash": "e00c480ae7e3d5e7171f38ea6fedffbe731b8808f4aa360dec46acf6f1daf018"
  },
  "kernelspec": {
   "display_name": "Python 3.9.2 64-bit",
   "language": "python",
   "name": "python3"
  },
  "language_info": {
   "codemirror_mode": {
    "name": "ipython",
    "version": 3
   },
   "file_extension": ".py",
   "mimetype": "text/x-python",
   "name": "python",
   "nbconvert_exporter": "python",
   "pygments_lexer": "ipython3",
   "version": "3.9.2"
  },
  "orig_nbformat": 4
 },
 "nbformat": 4,
 "nbformat_minor": 2
}
